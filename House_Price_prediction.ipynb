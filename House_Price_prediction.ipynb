{
 "cells": [
  {
   "cell_type": "markdown",
   "metadata": {
    "collapsed": true
   },
   "source": [
    "# House Price Prediction using regression Analysis"
   ]
  },
  {
   "cell_type": "markdown",
   "metadata": {},
   "source": [
    "## Import the Libraries and Data"
   ]
  },
  {
   "cell_type": "code",
   "execution_count": 1,
   "metadata": {},
   "outputs": [],
   "source": [
    "import numpy as np\n",
    "import pandas as pd\n",
    "import seaborn as sns\n",
    "import matplotlib.pyplot as plt"
   ]
  },
  {
   "cell_type": "code",
   "execution_count": 2,
   "metadata": {},
   "outputs": [],
   "source": [
    "# Since we are going to mae lot of visualization, let's set some visualization parameters in order to have same plots size\n",
    "plt.rcParams['figure.figsize'] = [12,6]\n",
    "sns.set_style('darkgrid')"
   ]
  },
  {
   "cell_type": "code",
   "execution_count": 4,
   "metadata": {},
   "outputs": [],
   "source": [
    "#house = pd.read_excel('/home/utkarsh/LearnBay/ML_Python/Maison.xlsx') ## Reading the data\n",
    "house = pd.read_csv(\"Maison.csv\")"
   ]
  },
  {
   "cell_type": "code",
   "execution_count": 5,
   "metadata": {},
   "outputs": [
    {
     "data": {
      "text/html": [
       "<div>\n",
       "<style scoped>\n",
       "    .dataframe tbody tr th:only-of-type {\n",
       "        vertical-align: middle;\n",
       "    }\n",
       "\n",
       "    .dataframe tbody tr th {\n",
       "        vertical-align: top;\n",
       "    }\n",
       "\n",
       "    .dataframe thead th {\n",
       "        text-align: right;\n",
       "    }\n",
       "</style>\n",
       "<table border=\"1\" class=\"dataframe\">\n",
       "  <thead>\n",
       "    <tr style=\"text-align: right;\">\n",
       "      <th></th>\n",
       "      <th>PRIX</th>\n",
       "      <th>SUPERFICIE</th>\n",
       "      <th>CHAMBRES</th>\n",
       "      <th>SDB</th>\n",
       "      <th>ETAGES</th>\n",
       "      <th>ALLEE</th>\n",
       "      <th>SALLEJEU</th>\n",
       "      <th>CAVE</th>\n",
       "      <th>GAZ</th>\n",
       "      <th>AIR</th>\n",
       "      <th>GARAGES</th>\n",
       "      <th>SITUATION</th>\n",
       "    </tr>\n",
       "  </thead>\n",
       "  <tbody>\n",
       "    <tr>\n",
       "      <th>0</th>\n",
       "      <td>42000</td>\n",
       "      <td>5850</td>\n",
       "      <td>3</td>\n",
       "      <td>1</td>\n",
       "      <td>2</td>\n",
       "      <td>1</td>\n",
       "      <td>0</td>\n",
       "      <td>1</td>\n",
       "      <td>0</td>\n",
       "      <td>0</td>\n",
       "      <td>1</td>\n",
       "      <td>0</td>\n",
       "    </tr>\n",
       "    <tr>\n",
       "      <th>1</th>\n",
       "      <td>38500</td>\n",
       "      <td>4000</td>\n",
       "      <td>2</td>\n",
       "      <td>1</td>\n",
       "      <td>1</td>\n",
       "      <td>1</td>\n",
       "      <td>0</td>\n",
       "      <td>0</td>\n",
       "      <td>0</td>\n",
       "      <td>0</td>\n",
       "      <td>0</td>\n",
       "      <td>0</td>\n",
       "    </tr>\n",
       "    <tr>\n",
       "      <th>2</th>\n",
       "      <td>49500</td>\n",
       "      <td>3060</td>\n",
       "      <td>3</td>\n",
       "      <td>1</td>\n",
       "      <td>1</td>\n",
       "      <td>1</td>\n",
       "      <td>0</td>\n",
       "      <td>0</td>\n",
       "      <td>0</td>\n",
       "      <td>0</td>\n",
       "      <td>0</td>\n",
       "      <td>0</td>\n",
       "    </tr>\n",
       "    <tr>\n",
       "      <th>3</th>\n",
       "      <td>60500</td>\n",
       "      <td>6650</td>\n",
       "      <td>3</td>\n",
       "      <td>1</td>\n",
       "      <td>2</td>\n",
       "      <td>1</td>\n",
       "      <td>1</td>\n",
       "      <td>0</td>\n",
       "      <td>0</td>\n",
       "      <td>0</td>\n",
       "      <td>0</td>\n",
       "      <td>0</td>\n",
       "    </tr>\n",
       "    <tr>\n",
       "      <th>4</th>\n",
       "      <td>61000</td>\n",
       "      <td>6360</td>\n",
       "      <td>2</td>\n",
       "      <td>1</td>\n",
       "      <td>1</td>\n",
       "      <td>1</td>\n",
       "      <td>0</td>\n",
       "      <td>0</td>\n",
       "      <td>0</td>\n",
       "      <td>0</td>\n",
       "      <td>0</td>\n",
       "      <td>0</td>\n",
       "    </tr>\n",
       "  </tbody>\n",
       "</table>\n",
       "</div>"
      ],
      "text/plain": [
       "    PRIX  SUPERFICIE  CHAMBRES  SDB  ETAGES  ALLEE  SALLEJEU  CAVE  GAZ  AIR  \\\n",
       "0  42000        5850         3    1       2      1         0     1    0    0   \n",
       "1  38500        4000         2    1       1      1         0     0    0    0   \n",
       "2  49500        3060         3    1       1      1         0     0    0    0   \n",
       "3  60500        6650         3    1       2      1         1     0    0    0   \n",
       "4  61000        6360         2    1       1      1         0     0    0    0   \n",
       "\n",
       "   GARAGES  SITUATION  \n",
       "0        1          0  \n",
       "1        0          0  \n",
       "2        0          0  \n",
       "3        0          0  \n",
       "4        0          0  "
      ]
     },
     "execution_count": 5,
     "metadata": {},
     "output_type": "execute_result"
    }
   ],
   "source": [
    "house.head()"
   ]
  },
  {
   "cell_type": "markdown",
   "metadata": {},
   "source": [
    "# Data Transformations & Analysis"
   ]
  },
  {
   "cell_type": "code",
   "execution_count": 6,
   "metadata": {},
   "outputs": [],
   "source": [
    "# Since the columns are in french, in order to make them more readable, let's translate them into English\n",
    "house = house.rename(index = str, columns = {'PRIX':'price','SUPERFICIE': 'area','CHAMBRES': 'rooms', \n",
    "                         'SDB': 'bathroom', 'ETAGES': 'floors','ALLEE': 'driveway',\n",
    "                         'SALLEJEU':'game_room', 'CAVE': 'cellar', \n",
    "                         'GAZ': 'gas', 'AIR':'air', 'GARAGES': 'garage', 'SITUATION': 'situation'})"
   ]
  },
  {
   "cell_type": "code",
   "execution_count": 7,
   "metadata": {},
   "outputs": [
    {
     "data": {
      "text/html": [
       "<div>\n",
       "<style scoped>\n",
       "    .dataframe tbody tr th:only-of-type {\n",
       "        vertical-align: middle;\n",
       "    }\n",
       "\n",
       "    .dataframe tbody tr th {\n",
       "        vertical-align: top;\n",
       "    }\n",
       "\n",
       "    .dataframe thead th {\n",
       "        text-align: right;\n",
       "    }\n",
       "</style>\n",
       "<table border=\"1\" class=\"dataframe\">\n",
       "  <thead>\n",
       "    <tr style=\"text-align: right;\">\n",
       "      <th></th>\n",
       "      <th>price</th>\n",
       "      <th>area</th>\n",
       "      <th>rooms</th>\n",
       "      <th>bathroom</th>\n",
       "      <th>floors</th>\n",
       "      <th>driveway</th>\n",
       "      <th>game_room</th>\n",
       "      <th>cellar</th>\n",
       "      <th>gas</th>\n",
       "      <th>air</th>\n",
       "      <th>garage</th>\n",
       "      <th>situation</th>\n",
       "    </tr>\n",
       "  </thead>\n",
       "  <tbody>\n",
       "    <tr>\n",
       "      <th>0</th>\n",
       "      <td>42000</td>\n",
       "      <td>5850</td>\n",
       "      <td>3</td>\n",
       "      <td>1</td>\n",
       "      <td>2</td>\n",
       "      <td>1</td>\n",
       "      <td>0</td>\n",
       "      <td>1</td>\n",
       "      <td>0</td>\n",
       "      <td>0</td>\n",
       "      <td>1</td>\n",
       "      <td>0</td>\n",
       "    </tr>\n",
       "    <tr>\n",
       "      <th>1</th>\n",
       "      <td>38500</td>\n",
       "      <td>4000</td>\n",
       "      <td>2</td>\n",
       "      <td>1</td>\n",
       "      <td>1</td>\n",
       "      <td>1</td>\n",
       "      <td>0</td>\n",
       "      <td>0</td>\n",
       "      <td>0</td>\n",
       "      <td>0</td>\n",
       "      <td>0</td>\n",
       "      <td>0</td>\n",
       "    </tr>\n",
       "    <tr>\n",
       "      <th>2</th>\n",
       "      <td>49500</td>\n",
       "      <td>3060</td>\n",
       "      <td>3</td>\n",
       "      <td>1</td>\n",
       "      <td>1</td>\n",
       "      <td>1</td>\n",
       "      <td>0</td>\n",
       "      <td>0</td>\n",
       "      <td>0</td>\n",
       "      <td>0</td>\n",
       "      <td>0</td>\n",
       "      <td>0</td>\n",
       "    </tr>\n",
       "    <tr>\n",
       "      <th>3</th>\n",
       "      <td>60500</td>\n",
       "      <td>6650</td>\n",
       "      <td>3</td>\n",
       "      <td>1</td>\n",
       "      <td>2</td>\n",
       "      <td>1</td>\n",
       "      <td>1</td>\n",
       "      <td>0</td>\n",
       "      <td>0</td>\n",
       "      <td>0</td>\n",
       "      <td>0</td>\n",
       "      <td>0</td>\n",
       "    </tr>\n",
       "    <tr>\n",
       "      <th>4</th>\n",
       "      <td>61000</td>\n",
       "      <td>6360</td>\n",
       "      <td>2</td>\n",
       "      <td>1</td>\n",
       "      <td>1</td>\n",
       "      <td>1</td>\n",
       "      <td>0</td>\n",
       "      <td>0</td>\n",
       "      <td>0</td>\n",
       "      <td>0</td>\n",
       "      <td>0</td>\n",
       "      <td>0</td>\n",
       "    </tr>\n",
       "  </tbody>\n",
       "</table>\n",
       "</div>"
      ],
      "text/plain": [
       "   price  area  rooms  bathroom  floors  driveway  game_room  cellar  gas  \\\n",
       "0  42000  5850      3         1       2         1          0       1    0   \n",
       "1  38500  4000      2         1       1         1          0       0    0   \n",
       "2  49500  3060      3         1       1         1          0       0    0   \n",
       "3  60500  6650      3         1       2         1          1       0    0   \n",
       "4  61000  6360      2         1       1         1          0       0    0   \n",
       "\n",
       "   air  garage  situation  \n",
       "0    0       1          0  \n",
       "1    0       0          0  \n",
       "2    0       0          0  \n",
       "3    0       0          0  \n",
       "4    0       0          0  "
      ]
     },
     "execution_count": 7,
     "metadata": {},
     "output_type": "execute_result"
    }
   ],
   "source": [
    "house.head()"
   ]
  },
  {
   "cell_type": "code",
   "execution_count": 8,
   "metadata": {},
   "outputs": [
    {
     "data": {
      "image/png": "[encoded data removed]",
      "text/plain": [
       "<Figure size 864x432 with 1 Axes>"
      ]
     },
     "metadata": {},
     "output_type": "display_data"
    }
   ],
   "source": [
    "# Let's see ig we have a linear relation between price and area\n",
    "#sns.palettes(house['area'], house['price'], palette = 'viridis')\n",
    "plt.scatter(house['area'], house['price'])\n",
    "plt.show()"
   ]
  },
  {
   "cell_type": "code",
   "execution_count": 9,
   "metadata": {},
   "outputs": [
    {
     "data": {
      "image/png": "[encoded data removed]",
      "text/plain": [
       "<Figure size 864x432 with 1 Axes>"
      ]
     },
     "metadata": {},
     "output_type": "display_data"
    }
   ],
   "source": [
    "import warnings\n",
    "warnings.filterwarnings('ignore')\n",
    "sns.distplot(house['price'])\n",
    "plt.show()"
   ]
  },
  {
   "cell_type": "code",
   "execution_count": 9,
   "metadata": {},
   "outputs": [
    {
     "data": {
      "image/png": "[encoded data removed]",
      "text/plain": [
       "<Figure size 864x432 with 1 Axes>"
      ]
     },
     "metadata": {},
     "output_type": "display_data"
    }
   ],
   "source": [
    "sns.distplot(house['area'])\n",
    "plt.show()"
   ]
  },
  {
   "cell_type": "code",
   "execution_count": 10,
   "metadata": {},
   "outputs": [],
   "source": [
    "# Import the libraries\n",
    "from sklearn.linear_model import LinearRegression\n",
    "from sklearn.model_selection import train_test_split"
   ]
  },
  {
   "cell_type": "code",
   "execution_count": 11,
   "metadata": {},
   "outputs": [],
   "source": [
    "# We now instatiate a Linear Regression object\n",
    "lm = LinearRegression()"
   ]
  },
  {
   "cell_type": "code",
   "execution_count": 12,
   "metadata": {},
   "outputs": [],
   "source": [
    "# let's do the split of the dataset\n",
    "house.columns\n",
    "X = house[['area', 'rooms', 'bathroom', 'floors', 'driveway', 'game_room',\n",
    "       'cellar', 'gas', 'air', 'garage', 'situation']]\n",
    "y = house['price']"
   ]
  },
  {
   "cell_type": "code",
   "execution_count": 13,
   "metadata": {},
   "outputs": [],
   "source": [
    "X_train, X_test, y_train, y_test = train_test_split( X, y, test_size=0.3, random_state=101)"
   ]
  },
  {
   "cell_type": "code",
   "execution_count": 14,
   "metadata": {},
   "outputs": [
    {
     "data": {
      "text/html": [
       "<div>\n",
       "<style scoped>\n",
       "    .dataframe tbody tr th:only-of-type {\n",
       "        vertical-align: middle;\n",
       "    }\n",
       "\n",
       "    .dataframe tbody tr th {\n",
       "        vertical-align: top;\n",
       "    }\n",
       "\n",
       "    .dataframe thead th {\n",
       "        text-align: right;\n",
       "    }\n",
       "</style>\n",
       "<table border=\"1\" class=\"dataframe\">\n",
       "  <thead>\n",
       "    <tr style=\"text-align: right;\">\n",
       "      <th></th>\n",
       "      <th>area</th>\n",
       "      <th>rooms</th>\n",
       "      <th>bathroom</th>\n",
       "      <th>floors</th>\n",
       "      <th>driveway</th>\n",
       "      <th>game_room</th>\n",
       "      <th>cellar</th>\n",
       "      <th>gas</th>\n",
       "      <th>air</th>\n",
       "      <th>garage</th>\n",
       "      <th>situation</th>\n",
       "    </tr>\n",
       "  </thead>\n",
       "  <tbody>\n",
       "    <tr>\n",
       "      <th>225</th>\n",
       "      <td>2800</td>\n",
       "      <td>3</td>\n",
       "      <td>2</td>\n",
       "      <td>2</td>\n",
       "      <td>0</td>\n",
       "      <td>0</td>\n",
       "      <td>1</td>\n",
       "      <td>0</td>\n",
       "      <td>1</td>\n",
       "      <td>1</td>\n",
       "      <td>0</td>\n",
       "    </tr>\n",
       "    <tr>\n",
       "      <th>18</th>\n",
       "      <td>3450</td>\n",
       "      <td>1</td>\n",
       "      <td>1</td>\n",
       "      <td>1</td>\n",
       "      <td>1</td>\n",
       "      <td>0</td>\n",
       "      <td>0</td>\n",
       "      <td>0</td>\n",
       "      <td>0</td>\n",
       "      <td>0</td>\n",
       "      <td>0</td>\n",
       "    </tr>\n",
       "    <tr>\n",
       "      <th>48</th>\n",
       "      <td>4960</td>\n",
       "      <td>4</td>\n",
       "      <td>1</td>\n",
       "      <td>3</td>\n",
       "      <td>0</td>\n",
       "      <td>0</td>\n",
       "      <td>0</td>\n",
       "      <td>0</td>\n",
       "      <td>0</td>\n",
       "      <td>0</td>\n",
       "      <td>0</td>\n",
       "    </tr>\n",
       "    <tr>\n",
       "      <th>355</th>\n",
       "      <td>10269</td>\n",
       "      <td>3</td>\n",
       "      <td>1</td>\n",
       "      <td>1</td>\n",
       "      <td>1</td>\n",
       "      <td>0</td>\n",
       "      <td>0</td>\n",
       "      <td>0</td>\n",
       "      <td>0</td>\n",
       "      <td>1</td>\n",
       "      <td>1</td>\n",
       "    </tr>\n",
       "    <tr>\n",
       "      <th>350</th>\n",
       "      <td>9860</td>\n",
       "      <td>3</td>\n",
       "      <td>1</td>\n",
       "      <td>1</td>\n",
       "      <td>1</td>\n",
       "      <td>0</td>\n",
       "      <td>0</td>\n",
       "      <td>0</td>\n",
       "      <td>0</td>\n",
       "      <td>0</td>\n",
       "      <td>0</td>\n",
       "    </tr>\n",
       "  </tbody>\n",
       "</table>\n",
       "</div>"
      ],
      "text/plain": [
       "      area  rooms  bathroom  floors  driveway  game_room  cellar  gas  air  \\\n",
       "225   2800      3         2       2         0          0       1    0    1   \n",
       "18    3450      1         1       1         1          0       0    0    0   \n",
       "48    4960      4         1       3         0          0       0    0    0   \n",
       "355  10269      3         1       1         1          0       0    0    0   \n",
       "350   9860      3         1       1         1          0       0    0    0   \n",
       "\n",
       "     garage  situation  \n",
       "225       1          0  \n",
       "18        0          0  \n",
       "48        0          0  \n",
       "355       1          1  \n",
       "350       0          0  "
      ]
     },
     "execution_count": 14,
     "metadata": {},
     "output_type": "execute_result"
    }
   ],
   "source": [
    "## Let's chec the head of some of these splits\n",
    "X_test.head()\n",
    "# We see that they are randomly selected"
   ]
  },
  {
   "cell_type": "code",
   "execution_count": 16,
   "metadata": {},
   "outputs": [
    {
     "data": {
      "text/plain": [
       "LinearRegression()"
      ]
     },
     "execution_count": 16,
     "metadata": {},
     "output_type": "execute_result"
    }
   ],
   "source": [
    "# Now let's build the model using sklearn\n",
    "lm.fit(X_test,y_test)"
   ]
  },
  {
   "cell_type": "code",
   "execution_count": 17,
   "metadata": {},
   "outputs": [
    {
     "name": "stdout",
     "output_type": "stream",
     "text": [
      "[2.77427857e+00 4.78126011e+02 1.48552373e+04 6.30488890e+03\n",
      " 1.10297552e+04 4.16165253e+03 1.00453729e+04 7.84525387e+03\n",
      " 1.24304580e+04 2.11509966e+03 7.39519171e+03]\n"
     ]
    }
   ],
   "source": [
    "# Now let's look at the coefficients\n",
    "print(lm.coef_)"
   ]
  },
  {
   "cell_type": "code",
   "execution_count": 20,
   "metadata": {},
   "outputs": [
    {
     "data": {
      "text/html": [
       "<div>\n",
       "<style scoped>\n",
       "    .dataframe tbody tr th:only-of-type {\n",
       "        vertical-align: middle;\n",
       "    }\n",
       "\n",
       "    .dataframe tbody tr th {\n",
       "        vertical-align: top;\n",
       "    }\n",
       "\n",
       "    .dataframe thead th {\n",
       "        text-align: right;\n",
       "    }\n",
       "</style>\n",
       "<table border=\"1\" class=\"dataframe\">\n",
       "  <thead>\n",
       "    <tr style=\"text-align: right;\">\n",
       "      <th></th>\n",
       "      <th>area</th>\n",
       "      <th>rooms</th>\n",
       "      <th>bathroom</th>\n",
       "      <th>floors</th>\n",
       "      <th>driveway</th>\n",
       "      <th>game_room</th>\n",
       "      <th>cellar</th>\n",
       "      <th>gas</th>\n",
       "      <th>air</th>\n",
       "      <th>garage</th>\n",
       "      <th>situation</th>\n",
       "    </tr>\n",
       "  </thead>\n",
       "  <tbody>\n",
       "    <tr>\n",
       "      <th>Coefficients</th>\n",
       "      <td>2.774279</td>\n",
       "      <td>478.126011</td>\n",
       "      <td>14855.237289</td>\n",
       "      <td>6304.888896</td>\n",
       "      <td>11029.75523</td>\n",
       "      <td>4161.652525</td>\n",
       "      <td>10045.372895</td>\n",
       "      <td>7845.253871</td>\n",
       "      <td>12430.457973</td>\n",
       "      <td>2115.09966</td>\n",
       "      <td>7395.191705</td>\n",
       "    </tr>\n",
       "  </tbody>\n",
       "</table>\n",
       "</div>"
      ],
      "text/plain": [
       "                  area       rooms      bathroom       floors     driveway  \\\n",
       "Coefficients  2.774279  478.126011  14855.237289  6304.888896  11029.75523   \n",
       "\n",
       "                game_room        cellar          gas           air  \\\n",
       "Coefficients  4161.652525  10045.372895  7845.253871  12430.457973   \n",
       "\n",
       "                  garage    situation  \n",
       "Coefficients  2115.09966  7395.191705  "
      ]
     },
     "execution_count": 20,
     "metadata": {},
     "output_type": "execute_result"
    }
   ],
   "source": [
    "coef = pd.DataFrame(lm.coef_, X.columns, columns = ['Coefficients'])\n",
    "coef.T"
   ]
  },
  {
   "cell_type": "code",
   "execution_count": 21,
   "metadata": {},
   "outputs": [],
   "source": [
    "import statsmodels.api as sm"
   ]
  },
  {
   "cell_type": "code",
   "execution_count": 22,
   "metadata": {},
   "outputs": [],
   "source": [
    "# X represents our predictor variables, and y our predicted variable.\n",
    "# We need now to add manually the intercepts\n",
    "X_endog = sm.add_constant(X_test)"
   ]
  },
  {
   "cell_type": "code",
   "execution_count": 23,
   "metadata": {},
   "outputs": [
    {
     "data": {
      "text/plain": [
       "<statsmodels.regression.linear_model.RegressionResultsWrapper at 0x20c621cbfd0>"
      ]
     },
     "execution_count": 23,
     "metadata": {},
     "output_type": "execute_result"
    }
   ],
   "source": [
    "res = sm.OLS(y_test, X_endog)\n",
    "res.fit()"
   ]
  },
  {
   "cell_type": "code",
   "execution_count": 21,
   "metadata": {},
   "outputs": [
    {
     "data": {
      "text/html": [
       "<table class=\"simpletable\">\n",
       "<caption>OLS Regression Results</caption>\n",
       "<tr>\n",
       "  <th>Dep. Variable:</th>          <td>price</td>      <th>  R-squared:         </th> <td>   0.681</td>\n",
       "</tr>\n",
       "<tr>\n",
       "  <th>Model:</th>                   <td>OLS</td>       <th>  Adj. R-squared:    </th> <td>   0.657</td>\n",
       "</tr>\n",
       "<tr>\n",
       "  <th>Method:</th>             <td>Least Squares</td>  <th>  F-statistic:       </th> <td>   29.45</td>\n",
       "</tr>\n",
       "<tr>\n",
       "  <th>Date:</th>             <td>Sat, 22 Jun 2019</td> <th>  Prob (F-statistic):</th> <td>2.53e-32</td>\n",
       "</tr>\n",
       "<tr>\n",
       "  <th>Time:</th>                 <td>16:01:39</td>     <th>  Log-Likelihood:    </th> <td> -1795.1</td>\n",
       "</tr>\n",
       "<tr>\n",
       "  <th>No. Observations:</th>      <td>   164</td>      <th>  AIC:               </th> <td>   3614.</td>\n",
       "</tr>\n",
       "<tr>\n",
       "  <th>Df Residuals:</th>          <td>   152</td>      <th>  BIC:               </th> <td>   3651.</td>\n",
       "</tr>\n",
       "<tr>\n",
       "  <th>Df Model:</th>              <td>    11</td>      <th>                     </th>     <td> </td>   \n",
       "</tr>\n",
       "<tr>\n",
       "  <th>Covariance Type:</th>      <td>nonrobust</td>    <th>                     </th>     <td> </td>   \n",
       "</tr>\n",
       "</table>\n",
       "<table class=\"simpletable\">\n",
       "<tr>\n",
       "      <td></td>         <th>coef</th>     <th>std err</th>      <th>t</th>      <th>P>|t|</th>  <th>[0.025</th>    <th>0.975]</th>  \n",
       "</tr>\n",
       "<tr>\n",
       "  <th>const</th>     <td> -703.0200</td> <td> 5457.714</td> <td>   -0.129</td> <td> 0.898</td> <td>-1.15e+04</td> <td> 1.01e+04</td>\n",
       "</tr>\n",
       "<tr>\n",
       "  <th>area</th>      <td>    2.7743</td> <td>    0.567</td> <td>    4.890</td> <td> 0.000</td> <td>    1.653</td> <td>    3.895</td>\n",
       "</tr>\n",
       "<tr>\n",
       "  <th>rooms</th>     <td>  478.1260</td> <td> 1666.410</td> <td>    0.287</td> <td> 0.775</td> <td>-2814.190</td> <td> 3770.442</td>\n",
       "</tr>\n",
       "<tr>\n",
       "  <th>bathroom</th>  <td> 1.486e+04</td> <td> 2651.101</td> <td>    5.603</td> <td> 0.000</td> <td> 9617.474</td> <td> 2.01e+04</td>\n",
       "</tr>\n",
       "<tr>\n",
       "  <th>floors</th>    <td> 6304.8889</td> <td> 1815.635</td> <td>    3.473</td> <td> 0.001</td> <td> 2717.749</td> <td> 9892.029</td>\n",
       "</tr>\n",
       "<tr>\n",
       "  <th>driveway</th>  <td> 1.103e+04</td> <td> 3235.995</td> <td>    3.408</td> <td> 0.001</td> <td> 4636.420</td> <td> 1.74e+04</td>\n",
       "</tr>\n",
       "<tr>\n",
       "  <th>game_room</th> <td> 4161.6525</td> <td> 3287.342</td> <td>    1.266</td> <td> 0.207</td> <td>-2333.129</td> <td> 1.07e+04</td>\n",
       "</tr>\n",
       "<tr>\n",
       "  <th>cellar</th>    <td> 1.005e+04</td> <td> 2689.056</td> <td>    3.736</td> <td> 0.000</td> <td> 4732.622</td> <td> 1.54e+04</td>\n",
       "</tr>\n",
       "<tr>\n",
       "  <th>gas</th>       <td> 7845.2539</td> <td> 6221.756</td> <td>    1.261</td> <td> 0.209</td> <td>-4447.033</td> <td> 2.01e+04</td>\n",
       "</tr>\n",
       "<tr>\n",
       "  <th>air</th>       <td> 1.243e+04</td> <td> 2704.379</td> <td>    4.596</td> <td> 0.000</td> <td> 7087.433</td> <td> 1.78e+04</td>\n",
       "</tr>\n",
       "<tr>\n",
       "  <th>garage</th>    <td> 2115.0997</td> <td> 1396.503</td> <td>    1.515</td> <td> 0.132</td> <td> -643.963</td> <td> 4874.163</td>\n",
       "</tr>\n",
       "<tr>\n",
       "  <th>situation</th> <td> 7395.1917</td> <td> 3006.773</td> <td>    2.460</td> <td> 0.015</td> <td> 1454.729</td> <td> 1.33e+04</td>\n",
       "</tr>\n",
       "</table>\n",
       "<table class=\"simpletable\">\n",
       "<tr>\n",
       "  <th>Omnibus:</th>       <td>17.037</td> <th>  Durbin-Watson:     </th> <td>   2.241</td>\n",
       "</tr>\n",
       "<tr>\n",
       "  <th>Prob(Omnibus):</th> <td> 0.000</td> <th>  Jarque-Bera (JB):  </th> <td>  28.373</td>\n",
       "</tr>\n",
       "<tr>\n",
       "  <th>Skew:</th>          <td> 0.535</td> <th>  Prob(JB):          </th> <td>6.90e-07</td>\n",
       "</tr>\n",
       "<tr>\n",
       "  <th>Kurtosis:</th>      <td> 4.734</td> <th>  Cond. No.          </th> <td>3.20e+04</td>\n",
       "</tr>\n",
       "</table><br/><br/>Warnings:<br/>[1] Standard Errors assume that the covariance matrix of the errors is correctly specified.<br/>[2] The condition number is large, 3.2e+04. This might indicate that there are<br/>strong multicollinearity or other numerical problems."
      ],
      "text/plain": [
       "<class 'statsmodels.iolib.summary.Summary'>\n",
       "\"\"\"\n",
       "                            OLS Regression Results                            \n",
       "==============================================================================\n",
       "Dep. Variable:                  price   R-squared:                       0.681\n",
       "Model:                            OLS   Adj. R-squared:                  0.657\n",
       "Method:                 Least Squares   F-statistic:                     29.45\n",
       "Date:                Sat, 22 Jun 2019   Prob (F-statistic):           2.53e-32\n",
       "Time:                        16:01:39   Log-Likelihood:                -1795.1\n",
       "No. Observations:                 164   AIC:                             3614.\n",
       "Df Residuals:                     152   BIC:                             3651.\n",
       "Df Model:                          11                                         \n",
       "Covariance Type:            nonrobust                                         \n",
       "==============================================================================\n",
       "                 coef    std err          t      P>|t|      [0.025      0.975]\n",
       "------------------------------------------------------------------------------\n",
       "const       -703.0200   5457.714     -0.129      0.898   -1.15e+04    1.01e+04\n",
       "area           2.7743      0.567      4.890      0.000       1.653       3.895\n",
       "rooms        478.1260   1666.410      0.287      0.775   -2814.190    3770.442\n",
       "bathroom    1.486e+04   2651.101      5.603      0.000    9617.474    2.01e+04\n",
       "floors      6304.8889   1815.635      3.473      0.001    2717.749    9892.029\n",
       "driveway    1.103e+04   3235.995      3.408      0.001    4636.420    1.74e+04\n",
       "game_room   4161.6525   3287.342      1.266      0.207   -2333.129    1.07e+04\n",
       "cellar      1.005e+04   2689.056      3.736      0.000    4732.622    1.54e+04\n",
       "gas         7845.2539   6221.756      1.261      0.209   -4447.033    2.01e+04\n",
       "air         1.243e+04   2704.379      4.596      0.000    7087.433    1.78e+04\n",
       "garage      2115.0997   1396.503      1.515      0.132    -643.963    4874.163\n",
       "situation   7395.1917   3006.773      2.460      0.015    1454.729    1.33e+04\n",
       "==============================================================================\n",
       "Omnibus:                       17.037   Durbin-Watson:                   2.241\n",
       "Prob(Omnibus):                  0.000   Jarque-Bera (JB):               28.373\n",
       "Skew:                           0.535   Prob(JB):                     6.90e-07\n",
       "Kurtosis:                       4.734   Cond. No.                     3.20e+04\n",
       "==============================================================================\n",
       "\n",
       "Warnings:\n",
       "[1] Standard Errors assume that the covariance matrix of the errors is correctly specified.\n",
       "[2] The condition number is large, 3.2e+04. This might indicate that there are\n",
       "strong multicollinearity or other numerical problems.\n",
       "\"\"\""
      ]
     },
     "execution_count": 21,
     "metadata": {},
     "output_type": "execute_result"
    }
   ],
   "source": [
    "res.fit().summary()"
   ]
  },
  {
   "cell_type": "code",
   "execution_count": 24,
   "metadata": {},
   "outputs": [],
   "source": [
    "predictions = lm.predict(X_test)"
   ]
  },
  {
   "cell_type": "code",
   "execution_count": 25,
   "metadata": {},
   "outputs": [
    {
     "data": {
      "text/plain": [
       "<AxesSubplot:xlabel='price'>"
      ]
     },
     "execution_count": 25,
     "metadata": {},
     "output_type": "execute_result"
    },
    {
     "data": {
      "image/png": "[encoded data removed]",
      "text/plain": [
       "<Figure size 864x432 with 1 Axes>"
      ]
     },
     "metadata": {},
     "output_type": "display_data"
    }
   ],
   "source": [
    "# To check the quality of our model, let's plot it\n",
    "sns.scatterplot(y_test, predictions)"
   ]
  },
  {
   "cell_type": "code",
   "execution_count": 27,
   "metadata": {},
   "outputs": [
    {
     "name": "stdout",
     "output_type": "stream",
     "text": [
      "MAE : 10248.782807401953\n",
      "MSE : 188311345.17713055\n",
      "RMSE : 13722.658094448412\n"
     ]
    }
   ],
   "source": [
    "# Evaluation metrics\n",
    "# Mean Absolute Error (MAE)\n",
    "# Mean Squared Error (MSE)\n",
    "# Root Mean Squared Error(RMSE)\n",
    "import numpy as np\n",
    "from sklearn import metrics\n",
    "\n",
    "print('MAE :', metrics.mean_absolute_error(y_test, predictions))\n",
    "print('MSE :', metrics.mean_squared_error(y_test, predictions))\n",
    "print('RMSE :', np.sqrt(metrics.mean_squared_error(y_test, predictions)))"
   ]
  },
  {
   "cell_type": "code",
   "execution_count": 28,
   "metadata": {},
   "outputs": [],
   "source": [
    "X_endog_test = sm.add_constant(X_test)\n",
    "model = res.fit()\n",
    "predictions = model.predict(X_endog_test)"
   ]
  },
  {
   "cell_type": "code",
   "execution_count": 29,
   "metadata": {},
   "outputs": [
    {
     "data": {
      "text/plain": [
       "225    75410.520914\n",
       "18     41536.248482\n",
       "48     48739.809721\n",
       "355    70920.597455\n",
       "350    60275.626153\n",
       "           ...     \n",
       "401    88661.834187\n",
       "189    61733.716170\n",
       "43     97926.364395\n",
       "36     53674.377517\n",
       "405    88521.215993\n",
       "Length: 164, dtype: float64"
      ]
     },
     "execution_count": 29,
     "metadata": {},
     "output_type": "execute_result"
    }
   ],
   "source": [
    "predictions"
   ]
  },
  {
   "cell_type": "code",
   "execution_count": null,
   "metadata": {
    "collapsed": true
   },
   "outputs": [],
   "source": []
  }
 ],
 "metadata": {
  "kernelspec": {
   "display_name": "Python 3",
   "language": "python",
   "name": "python3"
  },
  "language_info": {
   "codemirror_mode": {
    "name": "ipython",
    "version": 3
   },
   "file_extension": ".py",
   "mimetype": "text/x-python",
   "name": "python",
   "nbconvert_exporter": "python",
   "pygments_lexer": "ipython3",
   "version": "3.8.8"
  }
 },
 "nbformat": 4,
 "nbformat_minor": 2
}
